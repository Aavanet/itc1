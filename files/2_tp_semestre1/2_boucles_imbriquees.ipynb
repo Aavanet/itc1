{
 "cells": [
  {
   "cell_type": "markdown",
   "id": "b8034aa9-624a-45ca-9ba0-8c97a7130c1e",
   "metadata": {},
   "source": [
    "# Algorithmes opérant sur une structure séquentielle par boucles imbriquées\n",
    "\n",
    "## Facteur d'une chaîne de caractères\n",
    "\n",
    "Les chaînes de caractères (*string* en anglais) servent à stocker du texte, sous forme d'une suite de caractères (symboles). Contrairement aux listes, il n'est pas possible de modifier une chaîne de caractères (on dit que c'est un type immutable). Par exemple, il n'y a pas de `append` sur les chaînesdedededede de caractères."
   ]
  },
  {
   "cell_type": "code",
   "execution_count": 1,
   "id": "b2a9c312-70a9-46bd-91c3-6110ff681240",
   "metadata": {
    "execution": {
     "iopub.execute_input": "2021-11-13T16:14:00.725593Z",
     "iopub.status.busy": "2021-11-13T16:14:00.724968Z",
     "iopub.status.idle": "2021-11-13T16:14:00.735884Z",
     "shell.execute_reply": "2021-11-13T16:14:00.735310Z"
    }
   },
   "outputs": [
    {
     "name": "stdout",
     "output_type": "stream",
     "text": [
      "24\n",
      "i\n"
     ]
    }
   ],
   "source": [
    "s = \"l'informatique c'est fun\"  # définition d'une chaîne de caractères\n",
    "print(len(s))  # taille de s\n",
    "print(s[2])  # caractère d'indice 2 (c'est à dire en 3ème position)"
   ]
  },
  {
   "cell_type": "code",
   "execution_count": 2,
   "id": "3c72b6ff-e6d3-475f-9dac-a8c3910cb8d3",
   "metadata": {
    "execution": {
     "iopub.execute_input": "2021-11-13T16:14:00.742654Z",
     "iopub.status.busy": "2021-11-13T16:14:00.742075Z",
     "iopub.status.idle": "2021-11-13T16:14:00.801516Z",
     "shell.execute_reply": "2021-11-13T16:14:00.802009Z"
    }
   },
   "outputs": [
    {
     "ename": "TypeError",
     "evalue": "'str' object does not support item assignment",
     "output_type": "error",
     "traceback": [
      "\u001b[0;31m---------------------------------------------------------------------------\u001b[0m",
      "\u001b[0;31mTypeError\u001b[0m                                 Traceback (most recent call last)",
      "\u001b[0;32m/tmp/ipykernel_159/2090828810.py\u001b[0m in \u001b[0;36m<module>\u001b[0;34m\u001b[0m\n\u001b[0;32m----> 1\u001b[0;31m \u001b[0ms\u001b[0m\u001b[0;34m[\u001b[0m\u001b[0;36m0\u001b[0m\u001b[0;34m]\u001b[0m \u001b[0;34m=\u001b[0m \u001b[0;34m\"L\"\u001b[0m  \u001b[0;31m# ERREUR : on ne peut pas modifier un str\u001b[0m\u001b[0;34m\u001b[0m\u001b[0;34m\u001b[0m\u001b[0m\n\u001b[0m\u001b[1;32m      2\u001b[0m \u001b[0ms\u001b[0m\u001b[0;34m.\u001b[0m\u001b[0mappend\u001b[0m\u001b[0;34m(\u001b[0m\u001b[0;34m\"!\"\u001b[0m\u001b[0;34m)\u001b[0m  \u001b[0;31m# ERREUR : on ne peut pas modifier un str\u001b[0m\u001b[0;34m\u001b[0m\u001b[0;34m\u001b[0m\u001b[0m\n",
      "\u001b[0;31mTypeError\u001b[0m: 'str' object does not support item assignment"
     ]
    }
   ],
   "source": [
    "s[0] = \"L\"  # ERREUR : on ne peut pas modifier un str\n",
    "s.append(\"!\")  # ERREUR : on ne peut pas modifier un str"
   ]
  },
  {
   "cell_type": "markdown",
   "id": "09d78935-351e-402e-9e0e-5c7db0c7f5b3",
   "metadata": {
    "tags": [
     "exo"
    ]
   },
   "source": [
    "**Exercice** : Écrire une fonction permettant de savoir si une chaîne de caractères contient la lettre a."
   ]
  },
  {
   "cell_type": "markdown",
   "id": "a25077dd-ef96-4c59-a786-3b7a24f76a79",
   "metadata": {},
   "source": [
    "Soit `s` et `m` deux chaînes de caractères. On dit que `m` est un **facteur** de `s` si `m` apparaît dans `s` (consécutivement).  \n",
    "Par exemple, `\"thm\"` est un facteur de `\"Algorithme\"` mais `\"rime\"` n'est pas un facteur de `\"Algorithme\"`.  "
   ]
  },
  {
   "cell_type": "markdown",
   "id": "471dd2ae-5a7b-4b12-94c6-bfd9693a9844",
   "metadata": {},
   "source": [
    "**Exercice**\n",
    "1. Écrire une fonction `facteur_i` telle que `facteur_i(s, m, i)` détermine si `m` apparaît dans `s` à partir de l'indice `i`.  Dit autrement, il faut `s[i]` et `m[0]` soient égaux, que `s[i + 1]` et `m[1]` soient égaux...  \n",
    "Par exemple, `facteur_i(\"Algorithme\", \"go\", 2)` doit renvoyer `True` mais `facteur_i(\"Algorithme\", \"go\", 0)` doit renvoyer `False`.  \n",
    "2. En déduire une fonction `facteur` telle que `facteur(s, m)` détermine si `m` est un facteur de `s`."
   ]
  }
 ],
 "metadata": {
  "kernelspec": {
   "display_name": "Python 3",
   "language": "python",
   "name": "python3"
  },
  "language_info": {
   "codemirror_mode": {
    "name": "ipython",
    "version": 3
   },
   "file_extension": ".py",
   "mimetype": "text/x-python",
   "name": "python",
   "nbconvert_exporter": "python",
   "pygments_lexer": "ipython3",
   "version": "3.9.6"
  }
 },
 "nbformat": 4,
 "nbformat_minor": 5
}
