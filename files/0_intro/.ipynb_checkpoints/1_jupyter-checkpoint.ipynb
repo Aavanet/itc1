{
 "cells": [
  {
   "cell_type": "markdown",
   "metadata": {},
   "source": [
    "# Prise en main de Jupyter\n",
    "\n",
    "Jupyter est composé de plusieurs cases. Chaque case peut être composé de Markdown (texte) ou de code.  \n",
    "Vous pouvez voir le contenu brut d'une case Markdown en double-cliquant dessus.  \n",
    "Pour revenir sur l'affichage d'origine, exécuter la case avec Ctrl + Entrée (laisser appuyer sur Ctrl puis sur Entrée), ou sur Shift + Entrée (ce qui permet en plus de passer à la case suivante)"
   ]
  },
  {
   "cell_type": "markdown",
   "metadata": {},
   "source": [
    "En plus de Shift + Entrée, voici quelques autres commandes utiles :\n",
    "- Flèches du clavier (haut, bas) pour se déplacer entre les cases.\n",
    "- Entrée : modifier la case en cours (indiqué par une barre latérale bleue).\n",
    "- A : créer une case au dessus de celle en cours (sauf si on est en train d'éditer la case).\n",
    "- B : même chose mais au dessous.\n",
    "- D D : supprimer la case en cours.\n",
    "\n",
    "Pour change le type d'une case (Markdown ou code), choisissez dans le menu déroulant :\n",
    "\n",
    " width=300>"
   ]
  },
  {
   "cell_type": "markdown",
   "metadata": {},
   "source": [
    "Vous pouvez retrouver ces commandes, et d'autres, dans le menu de Jupyter."
   ]
  },
  {
   "cell_type": "markdown",
   "metadata": {},
   "source": [
    "# Markdown\n",
    "\n",
    "Voici un résumé des commandes spéciales Markdown :\n",
    "- `# Titre` pour écrire un titre\n",
    "- `**gras**` pour écrire du texte en **gras**\n",
    "- `*italique**` pour écrire en *italique*\n",
    "- `$\\sum_{k=0}^n 2^k$` pour écrire des formules mathématiques en LaTeX, ce qui donne par exemple :\n",
    "$$\\sum_{k=0}^n 2^k$$\n",
    "\n",
    "Pour plus de possibilités, regarder https://guides.github.com/features/mastering-markdown/"
   ]
  },
  {
   "cell_type": "markdown",
   "metadata": {},
   "source": [
    "# Code\n",
    "\n",
    "Lorsque vous exécutez une case de code, Jupyter vous donne la réponse :"
   ]
  },
  {
   "cell_type": "code",
   "execution_count": 1,
   "metadata": {
    "execution": {
     "iopub.execute_input": "2021-08-23T16:10:01.837836Z",
     "iopub.status.busy": "2021-08-23T16:10:01.837479Z",
     "iopub.status.idle": "2021-08-23T16:10:01.840231Z",
     "shell.execute_reply": "2021-08-23T16:10:01.839887Z"
    }
   },
   "outputs": [
    {
     "data": {
      "text/plain": [
       "- : float = 1024.\n"
      ]
     },
     "execution_count": 1,
     "metadata": {},
     "output_type": "execute_result"
    }
   ],
   "source": [
    "2.0**10.0 (* calcul en OCaml *)"
   ]
  },
  {
   "cell_type": "markdown",
   "metadata": {},
   "source": [
    "Les fonctions/variables définies sur une case sont utilisables sur les cases suivantes :"
   ]
  },
  {
   "cell_type": "code",
   "execution_count": 2,
   "metadata": {
    "execution": {
     "iopub.execute_input": "2021-08-23T16:10:01.841631Z",
     "iopub.status.busy": "2021-08-23T16:10:01.841311Z",
     "iopub.status.idle": "2021-08-23T16:10:01.842714Z",
     "shell.execute_reply": "2021-08-23T16:10:01.842412Z"
    }
   },
   "outputs": [
    {
     "data": {
      "text/plain": [
       "val a : int = 3\n"
      ]
     },
     "execution_count": 2,
     "metadata": {},
     "output_type": "execute_result"
    }
   ],
   "source": [
    "let a = 3;; (* définition d'une variable a *)"
   ]
  },
  {
   "cell_type": "code",
   "execution_count": 3,
   "metadata": {
    "execution": {
     "iopub.execute_input": "2021-08-23T16:10:01.845158Z",
     "iopub.status.busy": "2021-08-23T16:10:01.844839Z",
     "iopub.status.idle": "2021-08-23T16:10:01.846311Z",
     "shell.execute_reply": "2021-08-23T16:10:01.846029Z"
    }
   },
   "outputs": [
    {
     "data": {
      "text/plain": [
       "- : int = 3\n"
      ]
     },
     "execution_count": 3,
     "metadata": {},
     "output_type": "execute_result"
    }
   ],
   "source": [
    "a  (* utilisation de a *)"
   ]
  },
  {
   "cell_type": "markdown",
   "metadata": {},
   "source": [
    "Parfois, du code peut ne jamais s'arrêter (en cas de boucle infinie, par exemple). Dans ce cas, appuyer sur le bouton stop :\n",
    "<center> width=300></center>"
   ]
  },
  {
   "cell_type": "code",
   "execution_count": null,
   "metadata": {},
   "outputs": [],
   "source": []
  }
 ],
 "metadata": {
  "kernelspec": {
   "display_name": "OCaml default",
   "language": "OCaml",
   "name": "ocaml-jupyter"
  },
  "language_info": {
   "codemirror_mode": "text/x-ocaml",
   "file_extension": ".ml",
   "mimetype": "text/x-ocaml",
   "name": "OCaml",
   "nbconverter_exporter": null,
   "pygments_lexer": "OCaml",
   "version": "4.08.1"
  }
 },
 "nbformat": 4,
 "nbformat_minor": 4
}
