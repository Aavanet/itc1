{
 "cells": [
  {
   "cell_type": "markdown",
   "id": "1f109f9f",
   "metadata": {},
   "source": [
    "# Fonctions\n",
    "\n",
    "## Définition\n",
    "\n",
    "Voici un exemple de définition de fonction avec Python :"
   ]
  },
  {
   "cell_type": "code",
   "execution_count": 1,
   "id": "b89ae14f",
   "metadata": {
    "execution": {
     "iopub.execute_input": "2021-11-12T18:50:37.986614Z",
     "iopub.status.busy": "2021-11-12T18:50:37.986073Z",
     "iopub.status.idle": "2021-11-12T18:50:37.994595Z",
     "shell.execute_reply": "2021-11-12T18:50:37.995077Z"
    }
   },
   "outputs": [],
   "source": [
    "def f(x):\n",
    "    return 2*x"
   ]
  },
  {
   "cell_type": "markdown",
   "id": "ad1fd4e9",
   "metadata": {},
   "source": [
    "- `f` est le **nom** de la fonction\n",
    "- `x` est l'**argument** (ou **entrée**) de `f`\n",
    "- `2*x` est la **valeur de retour** (ou **sortie**) de `f`\n",
    "\n",
    "Mathématiquement, `f` correspond à la fonction mathématiques $f : x \\longmapsto 2x$."
   ]
  },
  {
   "cell_type": "markdown",
   "id": "e12650eb",
   "metadata": {},
   "source": [
    "On utilise une fonction en écrivant son nom suivi d'une valeur pour ses arguments (on dit qu'on **appelle** `f`) :"
   ]
  },
  {
   "cell_type": "code",
   "execution_count": 2,
   "id": "c18fdda0",
   "metadata": {
    "execution": {
     "iopub.execute_input": "2021-11-12T18:50:38.004852Z",
     "iopub.status.busy": "2021-11-12T18:50:38.002544Z",
     "iopub.status.idle": "2021-11-12T18:50:38.007647Z",
     "shell.execute_reply": "2021-11-12T18:50:38.008043Z"
    }
   },
   "outputs": [
    {
     "data": {
      "text/plain": [
       "6"
      ]
     },
     "execution_count": 2,
     "metadata": {},
     "output_type": "execute_result"
    }
   ],
   "source": [
    "f(3) # calcule la valeur de retour de f avec x remplacé par 3"
   ]
  },
  {
   "cell_type": "markdown",
   "id": "2d839e20",
   "metadata": {},
   "source": [
    "La variable `x` dans `f` est **locale** : elle n'existe que dans `f` et ne peut pas être utilisée/modifiée en dehors. Par exemple :"
   ]
  },
  {
   "cell_type": "code",
   "execution_count": 3,
   "id": "76d000ba",
   "metadata": {
    "execution": {
     "iopub.execute_input": "2021-11-12T18:50:38.012405Z",
     "iopub.status.busy": "2021-11-12T18:50:38.011748Z",
     "iopub.status.idle": "2021-11-12T18:50:38.056243Z",
     "shell.execute_reply": "2021-11-12T18:50:38.055810Z"
    }
   },
   "outputs": [
    {
     "ename": "NameError",
     "evalue": "name 'x' is not defined",
     "output_type": "error",
     "traceback": [
      "\u001b[0;31m---------------------------------------------------------------------------\u001b[0m",
      "\u001b[0;31mNameError\u001b[0m                                 Traceback (most recent call last)",
      "\u001b[0;32m/tmp/ipykernel_191/3732946723.py\u001b[0m in \u001b[0;36m<module>\u001b[0;34m\u001b[0m\n\u001b[1;32m      2\u001b[0m     \u001b[0;32mreturn\u001b[0m \u001b[0mx\u001b[0m\u001b[0;34m\u001b[0m\u001b[0;34m\u001b[0m\u001b[0m\n\u001b[1;32m      3\u001b[0m \u001b[0;34m\u001b[0m\u001b[0m\n\u001b[0;32m----> 4\u001b[0;31m \u001b[0mprint\u001b[0m\u001b[0;34m(\u001b[0m\u001b[0mx\u001b[0m\u001b[0;34m)\u001b[0m \u001b[0;31m# x n'existe qu'à l'intérieur de f, il ne faut pas essayer de l'utiliser en dehors\u001b[0m\u001b[0;34m\u001b[0m\u001b[0;34m\u001b[0m\u001b[0m\n\u001b[0m",
      "\u001b[0;31mNameError\u001b[0m: name 'x' is not defined"
     ]
    }
   ],
   "source": [
    "def f(x):\n",
    "    return x\n",
    "\n",
    "print(x) # x n'existe qu'à l'intérieur de f, il ne faut pas essayer de l'utiliser en dehors"
   ]
  },
  {
   "cell_type": "markdown",
   "id": "5d0bcfbe",
   "metadata": {},
   "source": [
    "La variable `x` dans `f` est **muette** : de la même façon que la fonction mathématiques $f : x \\longmapsto 2x$ est équivalente à $f : y \\longmapsto 2y$, la fonction `f` ci-dessous est parfaitement équivalente à :"
   ]
  },
  {
   "cell_type": "code",
   "execution_count": 4,
   "id": "ba3112f4",
   "metadata": {
    "execution": {
     "iopub.execute_input": "2021-11-12T18:50:38.061098Z",
     "iopub.status.busy": "2021-11-12T18:50:38.059768Z",
     "iopub.status.idle": "2021-11-12T18:50:38.061654Z",
     "shell.execute_reply": "2021-11-12T18:50:38.062213Z"
    }
   },
   "outputs": [],
   "source": [
    "def f(y):\n",
    "    return 2*y"
   ]
  },
  {
   "cell_type": "markdown",
   "id": "05b7ca79",
   "metadata": {
    "tags": [
     "exo"
    ]
   },
   "source": [
    "**Exercice**\n",
    "1. Définir la fonction $g : z \\longmapsto \\sqrt z(z^2-1)$ en Python.\n",
    "2. Vérifier que $g(4) = 30$.\n",
    "3. En réutilisant `g`, définir $h : z \\longmapsto 3z + \\sqrt z(z^2-1)$ en Python. Vérifier que $h(4) = 42$."
   ]
  },
  {
   "cell_type": "markdown",
   "id": "74883331",
   "metadata": {
    "tags": [
     "exo"
    ]
   },
   "source": [
    "**Exercice 2**\n",
    "1. Définir la fonction $inv : x \\longmapsto \\frac{1}{x}$ en Python.\n",
    "2. En réutilisant `inv`, définir $f : x \\longmapsto \\frac{1}{1+x^2}$ en Python. Vérifier que $f(2) = 0.2$."
   ]
  },
  {
   "cell_type": "markdown",
   "id": "0e484bc1",
   "metadata": {},
   "source": [
    "## Pourquoi écrire des fonctions?\n",
    "\n",
    "Les fonctions offrent au moins 2 intérêts majeurs :\n",
    "- Elles permettent de réutiliser du code : appeller une fonction plutôt que réécrire plein de fois la même portion de code. En évitant de répéter un long bloc de code, on économise des lignes de code et on gagne en lisibilité.\n",
    "- Elles permettent de mieux comprendre le code, en donnant un nom significatif à la fonction."
   ]
  },
  {
   "cell_type": "markdown",
   "id": "31114959",
   "metadata": {},
   "source": [
    "## Fonctions de plusieurs variables\n",
    "\n",
    "Pour l'instant, on a utilisé fonctions ayant un seul argument. De façon générale, une fonction (en Python ou en mathématiques) peut avoir n'importe quel nombre d'arguments. Par exemple :"
   ]
  },
  {
   "cell_type": "code",
   "execution_count": 5,
   "id": "bab8711d",
   "metadata": {
    "execution": {
     "iopub.execute_input": "2021-11-12T18:50:38.066696Z",
     "iopub.status.busy": "2021-11-12T18:50:38.066171Z",
     "iopub.status.idle": "2021-11-12T18:50:38.068672Z",
     "shell.execute_reply": "2021-11-12T18:50:38.068241Z"
    }
   },
   "outputs": [],
   "source": [
    "def somme(x, y): # cette fonction effectue la somme de deux nombres\n",
    "    return x + y"
   ]
  },
  {
   "cell_type": "markdown",
   "id": "e1cb0112",
   "metadata": {},
   "source": [
    "On utilise la fonction `somme` en donnant deux valeurs pour `x` et `y` (dans l'ordre), séparées par une virgule :"
   ]
  },
  {
   "cell_type": "code",
   "execution_count": 6,
   "id": "b83d75c1",
   "metadata": {
    "execution": {
     "iopub.execute_input": "2021-11-12T18:50:38.074465Z",
     "iopub.status.busy": "2021-11-12T18:50:38.073329Z",
     "iopub.status.idle": "2021-11-12T18:50:38.076681Z",
     "shell.execute_reply": "2021-11-12T18:50:38.076173Z"
    }
   },
   "outputs": [
    {
     "data": {
      "text/plain": [
       "7"
      ]
     },
     "execution_count": 6,
     "metadata": {},
     "output_type": "execute_result"
    }
   ],
   "source": [
    "somme(3, 4) # appelle somme en remplaçant x par 3 et y par 4"
   ]
  },
  {
   "cell_type": "markdown",
   "id": "6347e319",
   "metadata": {},
   "source": [
    "On peut bien sûr utiliser plus de variables : "
   ]
  },
  {
   "cell_type": "code",
   "execution_count": 7,
   "id": "37677e0e",
   "metadata": {
    "execution": {
     "iopub.execute_input": "2021-11-12T18:50:38.086368Z",
     "iopub.status.busy": "2021-11-12T18:50:38.085330Z",
     "iopub.status.idle": "2021-11-12T18:50:38.087960Z",
     "shell.execute_reply": "2021-11-12T18:50:38.088339Z"
    }
   },
   "outputs": [
    {
     "data": {
      "text/plain": [
       "6"
      ]
     },
     "execution_count": 7,
     "metadata": {},
     "output_type": "execute_result"
    }
   ],
   "source": [
    "def somme3(x, y, z):\n",
    "    return x + y + z\n",
    "somme3(1, 2, 3)"
   ]
  },
  {
   "cell_type": "markdown",
   "id": "4d3deb8d",
   "metadata": {
    "tags": [
     "exo"
    ]
   },
   "source": [
    "**Exercice** : Définir une fonction `delta` telle que `delta(a, b, c)` renvoie le discriminant de l'équation $ax^2 + bx + c = 0$. Vérifier que le discriminant de $x^2 + 2x + 3$ est $-8$."
   ]
  },
  {
   "cell_type": "markdown",
   "id": "90b06d54",
   "metadata": {},
   "source": [
    "# Fonctions prédéfinies\n",
    "Un **module** en Python est un ensemble de fonctions regroupées autour d'un même thème. Un des avantages de Python est son nombre de modules disponibles. Par exemple, NumPy contient de nombreuses fonctions mathématiques :"
   ]
  },
  {
   "cell_type": "code",
   "execution_count": 8,
   "id": "a81a7a5c",
   "metadata": {
    "execution": {
     "iopub.execute_input": "2021-11-12T18:50:38.092825Z",
     "iopub.status.busy": "2021-11-12T18:50:38.091983Z",
     "iopub.status.idle": "2021-11-12T18:50:38.178447Z",
     "shell.execute_reply": "2021-11-12T18:50:38.178943Z"
    }
   },
   "outputs": [
    {
     "data": {
      "text/plain": [
       "2.718281828459045"
      ]
     },
     "execution_count": 8,
     "metadata": {},
     "output_type": "execute_result"
    }
   ],
   "source": [
    "import numpy as np # importe le module NumPy, toutes les fonctions devant être préfixées par np. pour être utilisée\n",
    "\n",
    "np.exp(1) # fonction exponentielle de NumPy"
   ]
  },
  {
   "cell_type": "code",
   "execution_count": 9,
   "id": "85fd3525",
   "metadata": {
    "execution": {
     "iopub.execute_input": "2021-11-12T18:50:38.182074Z",
     "iopub.status.busy": "2021-11-12T18:50:38.181117Z",
     "iopub.status.idle": "2021-11-12T18:50:38.187448Z",
     "shell.execute_reply": "2021-11-12T18:50:38.188116Z"
    }
   },
   "outputs": [
    {
     "data": {
      "text/plain": [
       "0.0"
      ]
     },
     "execution_count": 9,
     "metadata": {},
     "output_type": "execute_result"
    }
   ],
   "source": [
    "np.log(1) # logarithme naturel (néperien) de NumPy"
   ]
  },
  {
   "cell_type": "markdown",
   "id": "bd22e26a",
   "metadata": {},
   "source": [
    "**Exercice** Définir la fonction sigmoïde $s : x \\longmapsto \\frac{1}{1+e^{-x}}$. En calculant $s(x)$ pour de grandes valeurs de $x$, conjecturer son comportement en $+\\infty$."
   ]
  },
  {
   "cell_type": "code",
   "execution_count": 10,
   "id": "c781895b",
   "metadata": {
    "execution": {
     "iopub.execute_input": "2021-11-12T18:50:38.191234Z",
     "iopub.status.busy": "2021-11-12T18:50:38.190209Z",
     "iopub.status.idle": "2021-11-12T18:50:38.196679Z",
     "shell.execute_reply": "2021-11-12T18:50:38.197344Z"
    }
   },
   "outputs": [
    {
     "data": {
      "text/plain": [
       "0.9999546021312976"
      ]
     },
     "execution_count": 10,
     "metadata": {},
     "output_type": "execute_result"
    }
   ],
   "source": [
    "def s(x):\n",
    "    return 1/(1 + np.exp(-x))\n",
    "s(10) # s a l'air de tendre vers 1 en l'infini"
   ]
  },
  {
   "cell_type": "markdown",
   "id": "474e1057",
   "metadata": {},
   "source": [
    "Si on veut gagner du temps ou si on ne se souvient pas du nom de la fonction que l'on souhaite utiliser, on peut utiliser la touche Tab pour compléter automatiquement ce qu'on est en train d'écrire. On peut ensuite sélectionner la bonne fonction avec la touche Entrée :\n",
    "\n",
    "<center><img src=img/completion.png width=300/></center>"
   ]
  },
  {
   "cell_type": "markdown",
   "id": "3f230fce",
   "metadata": {},
   "source": [
    "Il est possible d'obtenir de l'aide sur une fonction en cliquant dessus puis en appuyant sur les touches Shift+Tab (laisser appuyer sur Shift, puis appuyer sur Tab) :\n",
    "\n",
    "<center><img src=img/aide.png width=600/></center>\n"
   ]
  }
 ],
 "metadata": {
  "jupytext": {
   "cell_metadata_filter": "-all",
   "main_language": "python",
   "notebook_metadata_filter": "-all"
  },
  "kernelspec": {
   "display_name": "Python 3",
   "language": "python",
   "name": "python3"
  },
  "language_info": {
   "codemirror_mode": {
    "name": "ipython",
    "version": 3
   },
   "file_extension": ".py",
   "mimetype": "text/x-python",
   "name": "python",
   "nbconvert_exporter": "python",
   "pygments_lexer": "ipython3",
   "version": "3.9.6"
  }
 },
 "nbformat": 4,
 "nbformat_minor": 5
}
