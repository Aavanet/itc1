{
 "cells": [
  {
   "cell_type": "markdown",
   "source": [
    "# Boucle for"
   ],
   "metadata": {}
  },
  {
   "cell_type": "markdown",
   "source": [
    "## Range"
   ],
   "metadata": {}
  },
  {
   "cell_type": "markdown",
   "source": [
    "Une boucle `for` permet de répéter des instructions un certain nombre de fois :"
   ],
   "metadata": {}
  },
  {
   "cell_type": "code",
   "execution_count": 1,
   "source": [
    "for i in range(5):\r\n",
    "    print(i)  # affiche i pour i variant de 0 à 4"
   ],
   "outputs": [
    {
     "output_type": "stream",
     "name": "stdout",
     "text": [
      "0\n",
      "1\n",
      "2\n",
      "3\n",
      "4\n"
     ]
    }
   ],
   "metadata": {}
  },
  {
   "cell_type": "markdown",
   "source": [
    "**Remarque** : on utilise souvent `i` comme nom de variable, mais on aurait pu l'appeler autrement. Par exemple le code suivant fait exactement la même chose :\n",
    "```python\n",
    "for variable in range(5):\n",
    "    print(variable)\n",
    "```    "
   ],
   "metadata": {}
  },
  {
   "cell_type": "markdown",
   "source": [
    "**Attention** : une boucle `for i in range(n)` commence à 0 et finit à $n - 1$ (l'indice de fin est toujours exclu en Python). "
   ],
   "metadata": {}
  },
  {
   "cell_type": "markdown",
   "source": [
    "**Exercice** : Combien de fois s'exécute une boucle `for i in range(n)`?"
   ],
   "metadata": {}
  },
  {
   "cell_type": "markdown",
   "source": [
    "L'exemple suivant permet de calculer la somme des 100 premiers entiers ($0 + 1 + 2 + ... + 99$) :"
   ],
   "metadata": {}
  },
  {
   "cell_type": "code",
   "execution_count": 15,
   "source": [
    "somme = 0\r\n",
    "for k in range(100):\r\n",
    "    somme += k  # même chose que somme = somme + k\r\n",
    "somme"
   ],
   "outputs": [
    {
     "output_type": "execute_result",
     "data": {
      "text/plain": [
       "4950"
      ]
     },
     "metadata": {},
     "execution_count": 15
    }
   ],
   "metadata": {}
  },
  {
   "cell_type": "markdown",
   "source": [
    "**Exercice** : Quelle formule connaissez-vous pour la somme précédente? L'utiliser pour vérifier votre résultat."
   ],
   "metadata": {}
  },
  {
   "cell_type": "markdown",
   "source": [
    "Une variante du `range` permet de parcourir les entiers de $a$ à $b - 1$ : `for i in range(a, b)`."
   ],
   "metadata": {}
  },
  {
   "cell_type": "code",
   "execution_count": 12,
   "source": [
    "for i in range(3, 6):\r\n",
    "    print(i)"
   ],
   "outputs": [
    {
     "output_type": "stream",
     "name": "stdout",
     "text": [
      "3\n",
      "4\n",
      "5\n"
     ]
    }
   ],
   "metadata": {}
  },
  {
   "cell_type": "markdown",
   "source": [
    "**Exercice** : Calculer $\\sum_{k = 5}^{20} \\sqrt{k}$  (= $\\sqrt{5} + \\sqrt{6} + ... + \\sqrt{20}$)."
   ],
   "metadata": {}
  },
  {
   "cell_type": "markdown",
   "source": [
    "**Exercice** : Écrire une fonction `fact` telle que `fact(n)` renvoie $n!$ ($n$ factorielle), c'est à dire $n\\times(n-1)\\times ... \\times 2 \\times1$."
   ],
   "metadata": {}
  },
  {
   "cell_type": "markdown",
   "source": [
    "Une boucle for est utile pour calculer les termes d'une suite récurrente $u_n$. Pour cela, on définie une variable `un` valant initialement $u_0$ que l'on remplace par la valeur suivante de la suite dans uen boucle `for`. Ainsi `un` prend la valeur de $u_0$, puis  $u_1$, $u_2$..."
   ],
   "metadata": {}
  },
  {
   "cell_type": "markdown",
   "source": [
    "**Exercice** : Calculer $u_{10}$, où $u_n$ est définie par $u_0 = 42$ et $u_{n+1} = \\sqrt{u_n} + 3u_n$."
   ],
   "metadata": {}
  },
  {
   "cell_type": "markdown",
   "source": [
    "**Exercice** Calculer $v_n$ défini par :\n",
    "$$v_0 = v_1 = 1$$\n",
    "$$v_{n + 2} = v_{n + 1} + v_{n}$$"
   ],
   "metadata": {}
  },
  {
   "cell_type": "markdown",
   "source": [
    "## for et liste\n",
    "\n",
    "Pour énumérer les éléments d'une listes, on peut parcourir ses indices :"
   ],
   "metadata": {}
  },
  {
   "cell_type": "code",
   "execution_count": 9,
   "source": [
    "L = [2, 3, 5, 7, 11]\r\n",
    "for i in range(len(L)):  # les indices de L vont de 0 à len(L) - 1\r\n",
    "    print(L[i])"
   ],
   "outputs": [
    {
     "output_type": "stream",
     "name": "stdout",
     "text": [
      "2\n",
      "3\n",
      "5\n",
      "7\n",
      "11\n"
     ]
    }
   ],
   "metadata": {}
  },
  {
   "cell_type": "markdown",
   "source": [
    "Lorsqu'on n'a pas besoin des indices, on peut utiliser `for e in L` (attention toutefois à ne pas confondre indice et élément):"
   ],
   "metadata": {}
  },
  {
   "cell_type": "code",
   "execution_count": 5,
   "source": [
    "for e in L:\r\n",
    "    print(e)"
   ],
   "outputs": [
    {
     "output_type": "stream",
     "name": "stdout",
     "text": [
      "2\n",
      "3\n",
      "5\n",
      "7\n",
      "11\n"
     ]
    }
   ],
   "metadata": {}
  },
  {
   "cell_type": "markdown",
   "source": [
    "**Exercice** : Écrire une fonction pour calculer la somme des éléments d'une liste."
   ],
   "metadata": {}
  },
  {
   "cell_type": "code",
   "execution_count": null,
   "source": [
    "def somme(L):\r\n",
    "    res = 0\r\n",
    "    for e in L:\r\n",
    "        res += e\r\n",
    "    return res"
   ],
   "outputs": [],
   "metadata": {}
  },
  {
   "cell_type": "markdown",
   "source": [
    "**Exercice** : Écrire une fonction `appartient` telle que `appartient(x, L)` renvoie `True` si `x` appartient à la liste `L`, `False` sinon."
   ],
   "metadata": {}
  },
  {
   "cell_type": "code",
   "execution_count": 1,
   "source": [
    "def appartient(x, L):\r\n",
    "    for e in L:\r\n",
    "        if x == e:\r\n",
    "            return True\r\n",
    "    return False"
   ],
   "outputs": [],
   "metadata": {}
  },
  {
   "cell_type": "markdown",
   "source": [
    "**Exercice** : \n",
    "1. Écrire une fonction pour déterminer si une liste est triée par ordre croissant.\n",
    "2. En déduire une fonction pour savoir si la liste est triée par ordre décroissant. On pourra utiliser `not` pour la négation."
   ],
   "metadata": {}
  },
  {
   "cell_type": "markdown",
   "source": [
    "Par défaut, une boucle `for i in range(n)` fait augmenter `i` de un à chaque passage. Il est possible de changer ce pas :"
   ],
   "metadata": {}
  },
  {
   "cell_type": "code",
   "execution_count": 23,
   "source": [
    "for i in range(0, 10, 2):  # entier de 0 à 9 en allant de 2 en 2\r\n",
    "    print(i)"
   ],
   "outputs": [
    {
     "output_type": "stream",
     "name": "stdout",
     "text": [
      "0\n",
      "2\n",
      "4\n",
      "6\n",
      "8\n"
     ]
    }
   ],
   "metadata": {}
  },
  {
   "cell_type": "markdown",
   "source": [
    "# Boucle while"
   ],
   "metadata": {}
  },
  {
   "cell_type": "markdown",
   "source": [
    "La boucle while répète des instructions tant qu'une condition est vraie :"
   ],
   "metadata": {}
  },
  {
   "cell_type": "code",
   "execution_count": 26,
   "source": [
    "i = 3\r\n",
    "while i >= 0:\r\n",
    "    print(i)\r\n",
    "    i -= 1"
   ],
   "outputs": [
    {
     "output_type": "stream",
     "name": "stdout",
     "text": [
      "3\n",
      "2\n",
      "1\n",
      "0\n"
     ]
    }
   ],
   "metadata": {}
  },
  {
   "cell_type": "markdown",
   "source": [
    "**Attention** : si la condition est toujours vraie, il y a \"boucle infinie\" et il faut l'arrêter avec le bouton stop : \n",
    "<center><img src="data:image/png;base64,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" width=300></center>"
   ],
   "metadata": {}
  },
  {
   "cell_type": "markdown",
   "source": [
    "**Exercice** : Définir un entier $n$ égal à 29568. Puis écrire une boucle `while` permettant de connaître la plus grande puissance de 2 divisant 29568, c'est à dire le plus grand $k$ tel que $2^k$ divise 29568.  \n",
    "```python\n",
    "n = 29568\n",
    "k = 0\n",
    "while ...:\n",
    "    ... # à compléter\n",
    "```"
   ],
   "metadata": {}
  },
  {
   "cell_type": "markdown",
   "source": [],
   "metadata": {}
  }
 ],
 "metadata": {
  "kernelspec": {
   "name": "python3",
   "display_name": "Python 3.9.1 64-bit ('base': conda)"
  },
  "language_info": {
   "codemirror_mode": {
    "name": "ipython",
    "version": 3
   },
   "file_extension": ".py",
   "mimetype": "text/x-python",
   "name": "python",
   "nbconvert_exporter": "python",
   "pygments_lexer": "ipython3",
   "version": "3.9.1"
  },
  "interpreter": {
   "hash": "80d9894a3b5815f7372610aa6642550cfc561afb6a89a6bb320ec4bc44e3d10c"
  }
 },
 "nbformat": 4,
 "nbformat_minor": 5
}