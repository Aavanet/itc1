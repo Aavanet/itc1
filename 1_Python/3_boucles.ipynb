{
 "cells": [
  {
   "cell_type": "markdown",
   "id": "d5db0b13",
   "metadata": {},
   "source": [
    "# Boucle for"
   ]
  },
  {
   "cell_type": "markdown",
   "id": "633439dd",
   "metadata": {},
   "source": [
    "## Range"
   ]
  },
  {
   "cell_type": "markdown",
   "id": "b6229508",
   "metadata": {},
   "source": [
    "Une boucle `for` permet de répéter des instructions un certain nombre de fois :"
   ]
  },
  {
   "cell_type": "code",
   "execution_count": 1,
   "id": "a414a9d4",
   "metadata": {
    "execution": {
     "iopub.execute_input": "2021-09-12T09:45:14.765050Z",
     "iopub.status.busy": "2021-09-12T09:45:14.762822Z",
     "iopub.status.idle": "2021-09-12T09:45:14.767231Z",
     "shell.execute_reply": "2021-09-12T09:45:14.768293Z"
    }
   },
   "outputs": [
    {
     "name": "stdout",
     "output_type": "stream",
     "text": [
      "0\n",
      "1\n",
      "2\n",
      "3\n",
      "4\n"
     ]
    }
   ],
   "source": [
    "for i in range(5):\n",
    "    print(i)  # affiche i pour i variant de 0 à 4"
   ]
  },
  {
   "cell_type": "markdown",
   "id": "7fd0e0c7",
   "metadata": {},
   "source": [
    "**Remarque** : on utilise souvent `i` comme nom de variable, mais on aurait pu l'appeler autrement. Par exemple le code suivant fait exactement la même chose :\n",
    "```python\n",
    "for variable in range(5):\n",
    "    print(variable)\n",
    "```    "
   ]
  },
  {
   "cell_type": "markdown",
   "id": "bea65493",
   "metadata": {},
   "source": [
    "**Attention** : une boucle `for i in range(n)` commence à 0 et finit à $n - 1$ (l'indice de fin est toujours exclu en Python). "
   ]
  },
  {
   "cell_type": "markdown",
   "id": "62c34930",
   "metadata": {},
   "source": [
    "**Exercice** : Combien de fois s'exécute une boucle `for i in range(n)`?"
   ]
  },
  {
   "cell_type": "markdown",
   "id": "827bc3d7",
   "metadata": {},
   "source": [
    "**Réponse** : $n$ fois (c'est aussi le nombre d'entiers dans $\\{0, ..., n - 1\\}$."
   ]
  },
  {
   "cell_type": "markdown",
   "id": "8247c39b",
   "metadata": {},
   "source": [
    "L'exemple suivant permet de calculer la somme des 100 premiers entiers ($0 + 1 + 2 + ... + 99$) :"
   ]
  },
  {
   "cell_type": "code",
   "execution_count": 2,
   "id": "74ffdc42",
   "metadata": {
    "execution": {
     "iopub.execute_input": "2021-09-12T09:45:14.777858Z",
     "iopub.status.busy": "2021-09-12T09:45:14.776282Z",
     "iopub.status.idle": "2021-09-12T09:45:14.781034Z",
     "shell.execute_reply": "2021-09-12T09:45:14.780618Z"
    }
   },
   "outputs": [
    {
     "data": {
      "text/plain": [
       "4950"
      ]
     },
     "execution_count": 2,
     "metadata": {},
     "output_type": "execute_result"
    }
   ],
   "source": [
    "somme = 0\n",
    "for k in range(100):\n",
    "    somme += k  # même chose que somme = somme + k\n",
    "somme"
   ]
  },
  {
   "cell_type": "markdown",
   "id": "211846e1",
   "metadata": {},
   "source": [
    "**Exercice** : Quelle formule connaissez-vous pour la somme précédente? L'utiliser pour vérifier votre résultat."
   ]
  },
  {
   "cell_type": "markdown",
   "id": "c0118d5e",
   "metadata": {},
   "source": [
    "Une variante du `range` permet de parcourir les entiers de $a$ à $b - 1$ : `for i in range(a, b)`."
   ]
  },
  {
   "cell_type": "code",
   "execution_count": 3,
   "id": "e0da88d4",
   "metadata": {
    "execution": {
     "iopub.execute_input": "2021-09-12T09:45:14.784850Z",
     "iopub.status.busy": "2021-09-12T09:45:14.784290Z",
     "iopub.status.idle": "2021-09-12T09:45:14.787864Z",
     "shell.execute_reply": "2021-09-12T09:45:14.788322Z"
    }
   },
   "outputs": [
    {
     "name": "stdout",
     "output_type": "stream",
     "text": [
      "3\n",
      "4\n",
      "5\n"
     ]
    }
   ],
   "source": [
    "for i in range(3, 6):\n",
    "    print(i)"
   ]
  },
  {
   "cell_type": "markdown",
   "id": "62eeee73",
   "metadata": {},
   "source": [
    "**Exercice** : Calculer $\\sum_{k = 5}^{20} \\sqrt{k}$  (= $\\sqrt{5} + \\sqrt{6} + ... + \\sqrt{20}$)."
   ]
  },
  {
   "cell_type": "markdown",
   "id": "70777091",
   "metadata": {},
   "source": [
    "**Exercice** : Écrire une fonction `fact` telle que `fact(n)` renvoie $n!$ ($n$ factorielle), c'est à dire $n\\times(n-1)\\times ... \\times 2 \\times1$."
   ]
  },
  {
   "cell_type": "markdown",
   "id": "5a3fb7f7",
   "metadata": {},
   "source": [
    "Une boucle for est utile pour calculer les termes d'une suite récurrente $u_n$. Pour cela, on définie une variable `un` valant initialement $u_0$ que l'on remplace par la valeur suivante de la suite dans uen boucle `for`. Ainsi `un` prend la valeur de $u_0$, puis  $u_1$, $u_2$..."
   ]
  },
  {
   "cell_type": "markdown",
   "id": "0074f9ac",
   "metadata": {},
   "source": [
    "**Exercice** : Calculer $u_{10}$, où $u_n$ est définie par $u_0 = 42$ et $u_{n+1} = \\sqrt{u_n} + 3u_n$."
   ]
  },
  {
   "cell_type": "code",
   "execution_count": 4,
   "id": "a5e77a53",
   "metadata": {
    "execution": {
     "iopub.execute_input": "2021-09-12T09:45:14.794283Z",
     "iopub.status.busy": "2021-09-12T09:45:14.791814Z",
     "iopub.status.idle": "2021-09-12T09:45:14.796407Z",
     "shell.execute_reply": "2021-09-12T09:45:14.796854Z"
    }
   },
   "outputs": [
    {
     "data": {
      "text/plain": [
       "2787204.895558157"
      ]
     },
     "execution_count": 4,
     "metadata": {},
     "output_type": "execute_result"
    }
   ],
   "source": [
    "un = 42\n",
    "for _ in range(10):\n",
    "    un = un**.5 + 3*un\n",
    "un"
   ]
  },
  {
   "cell_type": "markdown",
   "id": "173666b5",
   "metadata": {},
   "source": [
    "**Exercice** Calculer $v_n$ défini par :\n",
    "$$v_0 = v_1 = 1$$\n",
    "$$v_{n + 2} = v_{n + 1} + v_{n}$$"
   ]
  },
  {
   "cell_type": "markdown",
   "id": "1358eff6",
   "metadata": {},
   "source": [
    "## for et liste\n",
    "\n",
    "Pour énumérer les éléments d'une listes, on peut parcourir ses indices :"
   ]
  },
  {
   "cell_type": "code",
   "execution_count": 5,
   "id": "b08f3bc4",
   "metadata": {
    "execution": {
     "iopub.execute_input": "2021-09-12T09:45:14.801698Z",
     "iopub.status.busy": "2021-09-12T09:45:14.801164Z",
     "iopub.status.idle": "2021-09-12T09:45:14.802818Z",
     "shell.execute_reply": "2021-09-12T09:45:14.803296Z"
    }
   },
   "outputs": [
    {
     "name": "stdout",
     "output_type": "stream",
     "text": [
      "2\n",
      "3\n",
      "5\n",
      "7\n",
      "11\n"
     ]
    }
   ],
   "source": [
    "L = [2, 3, 5, 7, 11]\n",
    "for i in range(len(L)):  # les indices de L vont de 0 à len(L) - 1\n",
    "    print(L[i])"
   ]
  },
  {
   "cell_type": "markdown",
   "id": "c2f8abaf",
   "metadata": {},
   "source": [
    "Lorsqu'on n'a pas besoin des indices, on peut utiliser `for e in L` (attention toutefois à ne pas confondre indice et élément):"
   ]
  },
  {
   "cell_type": "code",
   "execution_count": 6,
   "id": "c17fec0f",
   "metadata": {
    "execution": {
     "iopub.execute_input": "2021-09-12T09:45:14.806675Z",
     "iopub.status.busy": "2021-09-12T09:45:14.806164Z",
     "iopub.status.idle": "2021-09-12T09:45:14.809804Z",
     "shell.execute_reply": "2021-09-12T09:45:14.809438Z"
    }
   },
   "outputs": [
    {
     "name": "stdout",
     "output_type": "stream",
     "text": [
      "2\n",
      "3\n",
      "5\n",
      "7\n",
      "11\n"
     ]
    }
   ],
   "source": [
    "for e in L:\n",
    "    print(e)"
   ]
  },
  {
   "cell_type": "markdown",
   "id": "952644bf",
   "metadata": {},
   "source": [
    "**Exercice** : Écrire une fonction pour calculer la somme des éléments d'une liste."
   ]
  },
  {
   "cell_type": "code",
   "execution_count": 7,
   "id": "e0631c7c",
   "metadata": {
    "execution": {
     "iopub.execute_input": "2021-09-12T09:45:14.814001Z",
     "iopub.status.busy": "2021-09-12T09:45:14.813512Z",
     "iopub.status.idle": "2021-09-12T09:45:14.815739Z",
     "shell.execute_reply": "2021-09-12T09:45:14.815321Z"
    }
   },
   "outputs": [],
   "source": [
    "def somme(L):\n",
    "    res = 0\n",
    "    for e in L:\n",
    "        res += e\n",
    "    return res"
   ]
  },
  {
   "cell_type": "markdown",
   "id": "9444a7f8",
   "metadata": {},
   "source": [
    "**Exercice** : Écrire une fonction `appartient` telle que `appartient(x, L)` renvoie `True` si `x` appartient à la liste `L`, `False` sinon."
   ]
  },
  {
   "cell_type": "code",
   "execution_count": 8,
   "id": "2c59598e",
   "metadata": {
    "execution": {
     "iopub.execute_input": "2021-09-12T09:45:14.821576Z",
     "iopub.status.busy": "2021-09-12T09:45:14.820267Z",
     "iopub.status.idle": "2021-09-12T09:45:14.822237Z",
     "shell.execute_reply": "2021-09-12T09:45:14.822809Z"
    }
   },
   "outputs": [],
   "source": [
    "def appartient(x, L):\n",
    "    for e in L:\n",
    "        if x == e:\n",
    "            return True\n",
    "    return False"
   ]
  },
  {
   "cell_type": "markdown",
   "id": "582ef984",
   "metadata": {},
   "source": [
    "**Exercice** : \n",
    "1. Écrire une fonction pour déterminer si une liste est triée par ordre croissant.\n",
    "2. En déduire une fonction pour savoir si la liste est triée par ordre décroissant. On pourra utiliser `not` pour la négation."
   ]
  },
  {
   "cell_type": "code",
   "execution_count": 9,
   "id": "709e4029",
   "metadata": {
    "execution": {
     "iopub.execute_input": "2021-09-12T09:45:14.827261Z",
     "iopub.status.busy": "2021-09-12T09:45:14.826754Z",
     "iopub.status.idle": "2021-09-12T09:45:14.828541Z",
     "shell.execute_reply": "2021-09-12T09:45:14.828909Z"
    }
   },
   "outputs": [],
   "source": [
    "# 1.\n",
    "def croissant(L):\n",
    "    for i in range(len(L) - 1): # ici on est obligé de parcourir les indices pour comparer 2 éléments consécutifs\n",
    "        if L[i] > L[i+1]:\n",
    "            return False\n",
    "    return True\n",
    "\n",
    "# 2.\n",
    "def decroissant(L):\n",
    "    return not croissant(L)"
   ]
  },
  {
   "cell_type": "markdown",
   "id": "0b1a2bc0",
   "metadata": {},
   "source": [
    "Par défaut, une boucle `for i in range(n)` fait augmenter `i` de un à chaque passage. Il est possible de changer ce pas :"
   ]
  },
  {
   "cell_type": "code",
   "execution_count": 10,
   "id": "cae973db",
   "metadata": {
    "execution": {
     "iopub.execute_input": "2021-09-12T09:45:14.831747Z",
     "iopub.status.busy": "2021-09-12T09:45:14.831088Z",
     "iopub.status.idle": "2021-09-12T09:45:14.835368Z",
     "shell.execute_reply": "2021-09-12T09:45:14.835761Z"
    }
   },
   "outputs": [
    {
     "name": "stdout",
     "output_type": "stream",
     "text": [
      "0\n",
      "2\n",
      "4\n",
      "6\n",
      "8\n"
     ]
    }
   ],
   "source": [
    "for i in range(0, 10, 2):  # entier de 0 à 9 en allant de 2 en 2\n",
    "    print(i)"
   ]
  },
  {
   "cell_type": "markdown",
   "id": "5bbabfac",
   "metadata": {},
   "source": [
    "# Boucle while"
   ]
  },
  {
   "cell_type": "markdown",
   "id": "0963a475",
   "metadata": {},
   "source": [
    "La boucle while répète des instructions tant qu'une condition est vraie :"
   ]
  },
  {
   "cell_type": "code",
   "execution_count": 11,
   "id": "d227ec5b",
   "metadata": {
    "execution": {
     "iopub.execute_input": "2021-09-12T09:45:14.840382Z",
     "iopub.status.busy": "2021-09-12T09:45:14.839800Z",
     "iopub.status.idle": "2021-09-12T09:45:14.841613Z",
     "shell.execute_reply": "2021-09-12T09:45:14.842140Z"
    }
   },
   "outputs": [
    {
     "name": "stdout",
     "output_type": "stream",
     "text": [
      "3\n",
      "2\n",
      "1\n",
      "0\n"
     ]
    }
   ],
   "source": [
    "i = 3\n",
    "while i >= 0:\n",
    "    print(i)\n",
    "    i -= 1"
   ]
  },
  {
   "cell_type": "markdown",
   "id": "21ae5be0",
   "metadata": {},
   "source": [
    "**Attention** : si la condition est toujours vraie, il y a \"boucle infinie\" et il faut l'arrêter avec le bouton stop : \n",
    "<center><img src=img/stop.png width=300></center>"
   ]
  },
  {
   "cell_type": "markdown",
   "id": "77b2631a",
   "metadata": {},
   "source": []
  }
 ],
 "metadata": {
  "interpreter": {
   "hash": "80d9894a3b5815f7372610aa6642550cfc561afb6a89a6bb320ec4bc44e3d10c"
  },
  "kernelspec": {
   "display_name": "Python 3.9.1 64-bit ('base': conda)",
   "name": "python3"
  },
  "language_info": {
   "codemirror_mode": {
    "name": "ipython",
    "version": 3
   },
   "file_extension": ".py",
   "mimetype": "text/x-python",
   "name": "python",
   "nbconvert_exporter": "python",
   "pygments_lexer": "ipython3",
   "version": "3.9.6"
  }
 },
 "nbformat": 4,
 "nbformat_minor": 5
}
